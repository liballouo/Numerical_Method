{
 "cells": [
  {
   "cell_type": "code",
   "execution_count": 25,
   "metadata": {},
   "outputs": [
    {
     "name": "stdout",
     "output_type": "stream",
     "text": [
      "lb  oz   kg\n",
      " 1,  16, 0.45359\n",
      " 2,  32, 0.90718\n",
      " 3,  48, 1.36077\n",
      " 4,  64, 1.81436\n",
      " 5,  80, 2.26795\n",
      " 6,  96, 2.72154\n",
      " 7, 112, 3.17513\n",
      " 8, 128, 3.62872\n",
      " 9, 144, 4.08231\n",
      "10, 160, 4.53590\n"
     ]
    }
   ],
   "source": [
    "print(f'lb  oz   kg')\n",
    "for lb in range(1,11):\n",
    "    print(f'{lb:2},{lb * 16:4}, {lb * 0.45359:.5f}')"
   ]
  },
  {
   "cell_type": "code",
   "execution_count": null,
   "metadata": {},
   "outputs": [],
   "source": []
  }
 ],
 "metadata": {
  "kernelspec": {
   "display_name": "Python 3",
   "language": "python",
   "name": "python3"
  },
  "language_info": {
   "codemirror_mode": {
    "name": "ipython",
    "version": 3
   },
   "file_extension": ".py",
   "mimetype": "text/x-python",
   "name": "python",
   "nbconvert_exporter": "python",
   "pygments_lexer": "ipython3",
   "version": "3.8.3"
  }
 },
 "nbformat": 4,
 "nbformat_minor": 4
}

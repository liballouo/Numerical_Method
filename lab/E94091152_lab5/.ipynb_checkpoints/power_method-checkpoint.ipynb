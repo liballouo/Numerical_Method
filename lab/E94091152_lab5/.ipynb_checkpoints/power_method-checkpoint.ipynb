{
 "cells": [
  {
   "cell_type": "code",
   "execution_count": 2,
   "metadata": {},
   "outputs": [],
   "source": [
    "import numpy as np"
   ]
  },
  {
   "cell_type": "code",
   "execution_count": 3,
   "metadata": {},
   "outputs": [],
   "source": [
    "def powerMethod(matrix_x, matrix_A):\n",
    "    \n",
    "    eigenvector = matrix_x\n",
    "    \n",
    "    # 迭代 50 次\n",
    "    for i in range(50):\n",
    "        # Ax 矩陣\n",
    "        Ax_matrix = np.matmul(matrix_A, eigenvector)\n",
    "\n",
    "        # 解特徵值\n",
    "        eigenvalue = Ax_matrix.max()\n",
    "        \n",
    "        # 解特徵向量\n",
    "        eigenvector = Ax_matrix / eigenvalue\n",
    "        \n",
    "        \n",
    "    print(\"Eigenvalue: {0}\".format(eigenvalue))\n",
    "    print(\"Eigenvector: {0}\".format(eigenvector))\n",
    "    "
   ]
  },
  {
   "cell_type": "code",
   "execution_count": 4,
   "metadata": {},
   "outputs": [
    {
     "name": "stdout",
     "output_type": "stream",
     "text": [
      "Eigenvalue: 4.0\n",
      "Eigenvector: [0.5 1. ]\n"
     ]
    }
   ],
   "source": [
    "x = np.array([1, 1])\n",
    "a = np.array([[0, 2],[2, 3]])\n",
    "\n",
    "powerMethod(x, a)"
   ]
  },
  {
   "cell_type": "code",
   "execution_count": 5,
   "metadata": {},
   "outputs": [
    {
     "name": "stdout",
     "output_type": "stream",
     "text": [
      "Eigenvalue: 8.0\n",
      "Eigenvector: [0.66666667 1.        ]\n"
     ]
    }
   ],
   "source": [
    "x = np.array([1, 1])\n",
    "a = np.array([[2, 4],[3, 6]])\n",
    "\n",
    "powerMethod(x, a)"
   ]
  },
  {
   "cell_type": "code",
   "execution_count": null,
   "metadata": {},
   "outputs": [],
   "source": []
  }
 ],
 "metadata": {
  "kernelspec": {
   "display_name": "Python 3",
   "language": "python",
   "name": "python3"
  },
  "language_info": {
   "codemirror_mode": {
    "name": "ipython",
    "version": 3
   },
   "file_extension": ".py",
   "mimetype": "text/x-python",
   "name": "python",
   "nbconvert_exporter": "python",
   "pygments_lexer": "ipython3",
   "version": "3.8.3"
  }
 },
 "nbformat": 4,
 "nbformat_minor": 4
}

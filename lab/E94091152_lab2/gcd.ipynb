{
 "cells": [
  {
   "cell_type": "code",
   "execution_count": 12,
   "metadata": {},
   "outputs": [],
   "source": [
    "def gcd(m:int ,n:int) -> int:\n",
    "    \"\"\" function of finding a greatest common divisor \"\"\"\n",
    "    if m == 0 or n == 0:\n",
    "        print(\"--------------------------------------\\nPlease enter a number greater than 0\\n--------------------------------------\")\n",
    "        m = int(input(\"Enter the first positive integer (m):\"))\n",
    "        n = int(input(\"Enter the second positive integer (n):\"))\n",
    "    \n",
    "    while (n!=0):\n",
    "        m %= n\n",
    "        if m != 0:\n",
    "            n %= m\n",
    "        else:\n",
    "            print(\"Greatest common divisor:\" + str(n))\n",
    "            break\n",
    "\n",
    "        if n == 0:\n",
    "            print(\"Greatest common divisor:\" + str(m))"
   ]
  },
  {
   "cell_type": "code",
   "execution_count": 13,
   "metadata": {},
   "outputs": [
    {
     "name": "stdout",
     "output_type": "stream",
     "text": [
      "Greatest common divisor:8\n"
     ]
    }
   ],
   "source": [
    "gcd(1304,560)"
   ]
  },
  {
   "cell_type": "code",
   "execution_count": 14,
   "metadata": {},
   "outputs": [
    {
     "name": "stdout",
     "output_type": "stream",
     "text": [
      "--------------------------------------\n",
      "Please enter a number greater than 0\n",
      "--------------------------------------\n",
      "Enter the first positive integer (m):376\n",
      "Enter the second positive integer (n):5\n",
      "Greatest common divisor:1\n"
     ]
    }
   ],
   "source": [
    "gcd(0,5)"
   ]
  },
  {
   "cell_type": "code",
   "execution_count": 14,
   "metadata": {},
   "outputs": [
    {
     "data": {
      "text/plain": [
       "\u001b[1;31mSignature:\u001b[0m \u001b[0mgcd\u001b[0m\u001b[1;33m(\u001b[0m\u001b[0mm\u001b[0m\u001b[1;33m:\u001b[0m \u001b[0mint\u001b[0m\u001b[1;33m,\u001b[0m \u001b[0mn\u001b[0m\u001b[1;33m:\u001b[0m \u001b[0mint\u001b[0m\u001b[1;33m)\u001b[0m \u001b[1;33m->\u001b[0m \u001b[0mint\u001b[0m\u001b[1;33m\u001b[0m\u001b[1;33m\u001b[0m\u001b[0m\n",
       "\u001b[1;31mDocstring:\u001b[0m function of finding a greatest common divisor \n",
       "\u001b[1;31mFile:\u001b[0m      c:\\users\\88698\\desktop\\學校、課程相關\\大二下\\數值方法\\e94091152_lab2\\<ipython-input-10-a1e9fc59ecf7>\n",
       "\u001b[1;31mType:\u001b[0m      function\n"
      ]
     },
     "metadata": {},
     "output_type": "display_data"
    }
   ],
   "source": [
    "?gcd"
   ]
  },
  {
   "cell_type": "code",
   "execution_count": null,
   "metadata": {},
   "outputs": [],
   "source": []
  }
 ],
 "metadata": {
  "kernelspec": {
   "display_name": "Python 3",
   "language": "python",
   "name": "python3"
  },
  "language_info": {
   "codemirror_mode": {
    "name": "ipython",
    "version": 3
   },
   "file_extension": ".py",
   "mimetype": "text/x-python",
   "name": "python",
   "nbconvert_exporter": "python",
   "pygments_lexer": "ipython3",
   "version": "3.8.3"
  }
 },
 "nbformat": 4,
 "nbformat_minor": 4
}

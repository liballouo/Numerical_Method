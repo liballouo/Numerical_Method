{
 "cells": [
  {
   "cell_type": "code",
   "execution_count": 268,
   "metadata": {},
   "outputs": [],
   "source": [
    "import numpy as np"
   ]
  },
  {
   "cell_type": "code",
   "execution_count": 269,
   "metadata": {},
   "outputs": [],
   "source": [
    "def gaussElimination(matrix_A, matrix_y):\n",
    "    # 將兩陣列轉為浮點數形式\n",
    "    matrix_A = np.array(matrix_A, dtype = np.float64)\n",
    "    matrix_y = np.array(matrix_y, dtype = np.float64)\n",
    "    \n",
    "    for row in range(len(matrix_A)):\n",
    "        for minus in range(row, len(matrix_A)-1): # 用以記錄相減位置\n",
    "            if matrix_A[minus+1][row] != 0:\n",
    "                multiple = matrix_A[minus+1][row] / matrix_A[row][row] # 相減倍數\n",
    "                for index in range(row, len(np.flip(matrix_A))):\n",
    "                    # 處理矩陣A\n",
    "                    matrix_A[minus+1][index] -= matrix_A[row][index] * multiple\n",
    "                # 處理矩陣y\n",
    "                matrix_y[minus+1] -= matrix_y[row] * multiple\n",
    "    \n",
    "    # 增廣矩陣\n",
    "    upper_triangular_matrix = np.insert(matrix_A, len(matrix_A), values=matrix_y ,axis=1)\n",
    "    print(\"upper triangular matrix:\\n{0}\\n\".format(upper_triangular_matrix))\n",
    "    \n",
    "    # 解x\n",
    "    x = np.zeros(len(matrix_A))\n",
    "    for i in range(len(x)-1 , -1, -1):\n",
    "        j = i # 用以紀錄移向位置\n",
    "        while j < len(matrix_A):\n",
    "            if j < len(matrix_A)-1 :\n",
    "                # 移向\n",
    "                matrix_y[i] -= matrix_A[i][j+1] * x[j+1]\n",
    "            x[i] = matrix_y[i] / upper_triangular_matrix[i][i]\n",
    "            j += 1\n",
    "    \n",
    "    print(\"x:\\n{0}\".format(np.array2string(x, separator=', ')))"
   ]
  },
  {
   "cell_type": "code",
   "execution_count": 270,
   "metadata": {},
   "outputs": [
    {
     "name": "stdout",
     "output_type": "stream",
     "text": [
      "upper triangular matrix:\n",
      "[[ 1.  2.  3.  2.]\n",
      " [ 0. -2. -4. -4.]\n",
      " [ 0.  0. -2.  1.]]\n",
      "\n",
      "x:\n",
      "[-2.5,  3. , -0.5]\n"
     ]
    }
   ],
   "source": [
    "a = np.array([[1, 2, 3],[3, 4, 5],[3, 5, 5]])\n",
    "y = np.array([2, 2, 5])\n",
    "\n",
    "gaussElimination(a,y)"
   ]
  },
  {
   "cell_type": "code",
   "execution_count": 271,
   "metadata": {},
   "outputs": [
    {
     "name": "stdout",
     "output_type": "stream",
     "text": [
      "upper triangular matrix:\n",
      "[[  1.    2.    3.    4.    4. ]\n",
      " [  0.   -6.  -12.  -18.  -12. ]\n",
      " [  0.    0.    2.    5.    3. ]\n",
      " [  0.    0.    0.   -2.5  -0.5]]\n",
      "\n",
      "x:\n",
      "[ 1.4, -0.6,  1. ,  0.2]\n"
     ]
    }
   ],
   "source": [
    "a = np.array([[1, 2, 3, 4],[5, 4, 3, 2],[2, 1, 2, 4],[2, 1, 3, 4]])\n",
    "y = np.array([4, 8, 5, 6])\n",
    "\n",
    "gaussElimination(a,y)"
   ]
  },
  {
   "cell_type": "code",
   "execution_count": null,
   "metadata": {},
   "outputs": [],
   "source": []
  }
 ],
 "metadata": {
  "kernelspec": {
   "display_name": "Python 3",
   "language": "python",
   "name": "python3"
  },
  "language_info": {
   "codemirror_mode": {
    "name": "ipython",
    "version": 3
   },
   "file_extension": ".py",
   "mimetype": "text/x-python",
   "name": "python",
   "nbconvert_exporter": "python",
   "pygments_lexer": "ipython3",
   "version": "3.8.3"
  }
 },
 "nbformat": 4,
 "nbformat_minor": 4
}

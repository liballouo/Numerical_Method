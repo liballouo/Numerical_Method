{
 "cells": [
  {
   "cell_type": "code",
   "execution_count": 255,
   "metadata": {},
   "outputs": [],
   "source": [
    "import numpy as np"
   ]
  },
  {
   "cell_type": "code",
   "execution_count": 256,
   "metadata": {},
   "outputs": [],
   "source": [
    "def inverseToSolve(matrix_A, matrix_y):\n",
    "    \n",
    "    # Set an adjugate matrix of A\n",
    "    adjMatrix_A = np.zeros((len(matrix_A), len(matrix_A)))\n",
    "    \n",
    "    for row in range(len(matrix_A)):\n",
    "        \n",
    "        # Set a determinant matrix of A\n",
    "        detMatrix_A = np.zeros((len(matrix_A)-1, len(matrix_A)-1))\n",
    "        \n",
    "        for column in range(len(np.flip(matrix_A))):\n",
    "            # record the position of the determinant matrix of A\n",
    "            det_row_pos = 0\n",
    "            det_column_pos = 0\n",
    "            \n",
    "            # indicating that whether an element is appended or not\n",
    "            append = False\n",
    "            \n",
    "            # go through the matrix_A\n",
    "            for det_row in range(len(detMatrix_A)+1):\n",
    "                for det_column in range(len(np.flip(detMatrix_A))+1):\n",
    "                    \n",
    "                    if det_row != row and det_column != column:\n",
    "                        detMatrix_A[det_row_pos][det_column_pos] = matrix_A[det_row][det_column]\n",
    "                        append = True\n",
    "                        det_column_pos += 1\n",
    "                        \n",
    "                # append happended\n",
    "                if append:\n",
    "                    det_column_pos = 0\n",
    "                    det_row_pos += 1\n",
    "                    append = False                \n",
    "                \n",
    "                adjMatrix_A[row][column] = np.linalg.det(detMatrix_A)\n",
    "                \n",
    "                # for the elements needed * -1 \n",
    "                if (row + column) % 2 == 1 and row != column:\n",
    "                    adjMatrix_A[row][column] *= -1\n",
    "            \n",
    "    # transpose the adjugate matrix of A        \n",
    "    adjMatrix_A = np.transpose(adjMatrix_A)    \n",
    "    \n",
    "    \n",
    "    print(\"adjugate matrix:\\n{0}\".format(adjMatrix_A))\n",
    "    \n",
    "    # the inverse of A = adj(A) / det(A)\n",
    "    inverseMatrix_A = adjMatrix_A / np.linalg.det(matrix_A)\n",
    "    \n",
    "    # 解x\n",
    "    x = np.zeros(len(matrix_A))\n",
    "    for row in range(len(adjMatrix_A)):\n",
    "        column_sum = 0 # 紀錄cloumn之和\n",
    "        for column in range(len(np.flip(adjMatrix_A))):\n",
    "            column_sum += inverseMatrix_A[row][column] * matrix_y[column]\n",
    "        x[row] = column_sum\n",
    "    \n",
    "    print(\"\\nx:\\n{0}\".format(np.array2string(x, separator=', ')))"
   ]
  },
  {
   "cell_type": "code",
   "execution_count": 257,
   "metadata": {
    "scrolled": false
   },
   "outputs": [
    {
     "name": "stdout",
     "output_type": "stream",
     "text": [
      "adjugate matrix:\n",
      "[[ 4. -2.]\n",
      " [-3.  1.]]\n",
      "\n",
      "x:\n",
      "[1. , 0.5]\n"
     ]
    }
   ],
   "source": [
    "a = np.array([[1,2],[3,4]])\n",
    "y = [2, 5]\n",
    "\n",
    "inverseToSolve(a,y)"
   ]
  },
  {
   "cell_type": "code",
   "execution_count": 258,
   "metadata": {
    "scrolled": false
   },
   "outputs": [
    {
     "name": "stdout",
     "output_type": "stream",
     "text": [
      "adjugate matrix:\n",
      "[[-5.  5. -2.]\n",
      " [-0. -4.  4.]\n",
      " [ 3.  1. -2.]]\n",
      "\n",
      "x:\n",
      "[-2.5,  3. , -0.5]\n"
     ]
    }
   ],
   "source": [
    "a = np.array([[1,2,3],[3,4,5],[3,5,5]])\n",
    "y = [2, 2, 5]\n",
    "\n",
    "inverseToSolve(a,y)"
   ]
  },
  {
   "cell_type": "code",
   "execution_count": null,
   "metadata": {},
   "outputs": [],
   "source": []
  }
 ],
 "metadata": {
  "kernelspec": {
   "display_name": "Python 3",
   "language": "python",
   "name": "python3"
  },
  "language_info": {
   "codemirror_mode": {
    "name": "ipython",
    "version": 3
   },
   "file_extension": ".py",
   "mimetype": "text/x-python",
   "name": "python",
   "nbconvert_exporter": "python",
   "pygments_lexer": "ipython3",
   "version": "3.8.3"
  }
 },
 "nbformat": 4,
 "nbformat_minor": 4
}

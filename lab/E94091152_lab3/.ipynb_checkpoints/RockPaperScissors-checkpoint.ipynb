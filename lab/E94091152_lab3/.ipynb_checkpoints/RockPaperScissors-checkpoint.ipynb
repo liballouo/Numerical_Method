{
 "cells": [
  {
   "cell_type": "code",
   "execution_count": 59,
   "metadata": {},
   "outputs": [],
   "source": [
    "import random\n",
    "class RockPaperScissors(object):\n",
    "    \n",
    "    def __init__(self):\n",
    "        self.num_of_ties = 0\n",
    "        self.num_of_losses = 0\n",
    "        self.num_of_wins = 0\n",
    "        \n",
    "    def play(self):\n",
    "        # 輸出遊戲開始文字\n",
    "        if  self.num_of_wins == 0:\n",
    "            print(\"Weclome to ROCK, PAPER, SCISSORS game!\")\n",
    "            \n",
    "        while True:\n",
    "            # 輸出提示文字\n",
    "            player_move = input(\"Enter your move: (r)ock (p)aper, (s)cissors\")\n",
    "            \n",
    "            if player_move == 'r':\n",
    "                print(\"ROCK versus...\")\n",
    "            elif player_move == 'p':\n",
    "                print(\"PAPER versus...\")\n",
    "            elif player_move == 's':\n",
    "                print(\"SCISSORS versus...\")\n",
    "            \n",
    "            # 隨機產生對方行動 0:ROCK, 1:PAPER, 2:SCISSORS\n",
    "            comp_move = random.randint(0,2)\n",
    "            \n",
    "            # 判斷輸贏\n",
    "            if player_move == 'r':\n",
    "                # ROCK\n",
    "                if comp_move == 0:\n",
    "                    print(\"ROCK\")\n",
    "                    self.num_of_ties += 1\n",
    "                    print(\"It is a tie!\")\n",
    "                    \n",
    "                # PAPER\n",
    "                elif comp_move == 1:\n",
    "                    print(\"PAPER\")\n",
    "                    self.num_of_losses += 1\n",
    "                    print(\"You lose!\")\n",
    "                    \n",
    "                # SCISSORS\n",
    "                elif comp_move == 2:\n",
    "                    print(\"SCISSORS\")\n",
    "                    self.num_of_wins += 1\n",
    "                    break\n",
    "                    \n",
    "            if player_move == 'p':\n",
    "                # ROCK\n",
    "                if comp_move == 0:\n",
    "                    print(\"ROCK\")\n",
    "                    self.num_of_wins += 1\n",
    "                    break\n",
    "                    \n",
    "                # PAPER\n",
    "                elif comp_move == 1:\n",
    "                    print(\"PAPER\")\n",
    "                    self.num_of_ties += 1\n",
    "                    print(\"It is a tie!\")\n",
    "\n",
    "                # SCISSORS\n",
    "                elif comp_move == 2:\n",
    "                    print(\"SCISSORS\")\n",
    "                    self.num_of_losses += 1\n",
    "                    print(\"You lose!\")\n",
    "                    \n",
    "            if player_move == 's':\n",
    "                # ROCK\n",
    "                if comp_move == 0:\n",
    "                    print(\"ROCK\")\n",
    "                    self.num_of_losses += 1\n",
    "                    print(\"You lose!\")\n",
    "                    \n",
    "                # PAPER\n",
    "                elif comp_move == 1:\n",
    "                    print(\"PAPER\")\n",
    "                    self.num_of_wins += 1\n",
    "                    break\n",
    "                    \n",
    "                # SCISSORS\n",
    "                elif comp_move == 2:\n",
    "                    print(\"SCISSORS\")\n",
    "                    self.num_of_ties += 1\n",
    "                    print(\"It is a tie!\")\n",
    "                    \n",
    "            # end while\n",
    "        \n",
    "        # 輸出勝利結果    \n",
    "        print(\"You win!\\nYou have {0} ties, {1} losses and {2} wins.\".format(self.num_of_ties, self.num_of_losses, self.num_of_wins))\n"
   ]
  },
  {
   "cell_type": "code",
   "execution_count": 60,
   "metadata": {},
   "outputs": [
    {
     "name": "stdout",
     "output_type": "stream",
     "text": [
      "Weclome to ROCK, PAPER, SCISSORS game!\n",
      "Enter your move: (r)ock (p)aper, (s)cissorsr\n",
      "ROCK versus...\n",
      "PAPER\n",
      "You lose!\n",
      "Enter your move: (r)ock (p)aper, (s)cissorsr\n",
      "ROCK versus...\n",
      "PAPER\n",
      "You lose!\n",
      "Enter your move: (r)ock (p)aper, (s)cissorsr\n",
      "ROCK versus...\n",
      "ROCK\n",
      "It is a tie!\n",
      "Enter your move: (r)ock (p)aper, (s)cissorsr\n",
      "ROCK versus...\n",
      "PAPER\n",
      "You lose!\n",
      "Enter your move: (r)ock (p)aper, (s)cissorsr\n",
      "ROCK versus...\n",
      "SCISSORS\n",
      "You win!\n",
      "You have 1 ties, 3 losses and 1 wins.\n"
     ]
    }
   ],
   "source": [
    "game = RockPaperScissors()\n",
    "game.play()"
   ]
  },
  {
   "cell_type": "code",
   "execution_count": 61,
   "metadata": {
    "scrolled": true
   },
   "outputs": [
    {
     "name": "stdout",
     "output_type": "stream",
     "text": [
      "Enter your move: (r)ock (p)aper, (s)cissorsr\n",
      "ROCK versus...\n",
      "ROCK\n",
      "It is a tie!\n",
      "Enter your move: (r)ock (p)aper, (s)cissorsr\n",
      "ROCK versus...\n",
      "ROCK\n",
      "It is a tie!\n",
      "Enter your move: (r)ock (p)aper, (s)cissorsr\n",
      "ROCK versus...\n",
      "SCISSORS\n",
      "You win!\n",
      "You have 3 ties, 3 losses and 2 wins.\n"
     ]
    }
   ],
   "source": [
    "game.play()"
   ]
  },
  {
   "cell_type": "code",
   "execution_count": null,
   "metadata": {},
   "outputs": [],
   "source": []
  }
 ],
 "metadata": {
  "kernelspec": {
   "display_name": "Python 3",
   "language": "python",
   "name": "python3"
  },
  "language_info": {
   "codemirror_mode": {
    "name": "ipython",
    "version": 3
   },
   "file_extension": ".py",
   "mimetype": "text/x-python",
   "name": "python",
   "nbconvert_exporter": "python",
   "pygments_lexer": "ipython3",
   "version": "3.8.3"
  }
 },
 "nbformat": 4,
 "nbformat_minor": 4
}

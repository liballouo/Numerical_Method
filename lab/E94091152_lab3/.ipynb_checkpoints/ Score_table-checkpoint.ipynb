{
 "cells": [
  {
   "cell_type": "code",
   "execution_count": 11,
   "metadata": {},
   "outputs": [
    {
     "data": {
      "text/plain": [
       "[[94, 90, 70, 50, 84, 74], [60, 80, 74, 98, 58, 44], [44, 92, 86, 52, 62, 48]]"
      ]
     },
     "execution_count": 11,
     "metadata": {},
     "output_type": "execute_result"
    }
   ],
   "source": [
    "import numpy as np\n",
    "import random\n",
    "\n",
    "part_1 = []\n",
    "tmp = []\n",
    "count = 0\n",
    "for i in range(0,104,6):\n",
    "    random.seed(i)\n",
    "    count += 1\n",
    "    tmp.append(random.randrange(40, 100, 2))\n",
    "\n",
    "    if count >= 6:\n",
    "        count = 0\n",
    "        part_1.append(tmp)\n",
    "        tmp = []\n",
    "part_1"
   ]
  },
  {
   "cell_type": "code",
   "execution_count": 12,
   "metadata": {},
   "outputs": [
    {
     "data": {
      "text/plain": [
       "array([[94, 65, 42, 95, 53, 56],\n",
       "       [86, 33, 65, 80, 91, 81],\n",
       "       [82, 85, 47, 58, 83, 49]])"
      ]
     },
     "execution_count": 12,
     "metadata": {},
     "output_type": "execute_result"
    }
   ],
   "source": [
    "np.random.seed(41)\n",
    "part_2 = np.random.randint(30, 100, size=(3,6))\n",
    "part_2"
   ]
  },
  {
   "cell_type": "code",
   "execution_count": 71,
   "metadata": {},
   "outputs": [
    {
     "name": "stdout",
     "output_type": "stream",
     "text": [
      "        Score1  Score2  Score3  Score4  Score5  Score6  AVG_person\n",
      "Person1   94      75      53      77      65      63       71   \n",
      "Person2   76      52      69      87      78      66       71   \n",
      "Person3   67      88      63      56      75      49       66   \n",
      "------------------------------------------------------------------\n",
      "AVG_src   79      72      62      73      73      59       69    \n"
     ]
    }
   ],
   "source": [
    "tmp1 = []\n",
    "tmp2 = []\n",
    "part_1_weighted = []\n",
    "part_2_weighted = []\n",
    "average_person = []\n",
    "for row in part_1:\n",
    "    for nums in row:\n",
    "        tmp1.append(round(nums*0.4, 1))\n",
    "    part_1_weighted.append(tmp1)\n",
    "    tmp1 = []\n",
    "for row in part_2:\n",
    "    for nums in row:\n",
    "        tmp2.append(round(nums*0.6, 1))\n",
    "    part_2_weighted.append(tmp2)\n",
    "    tmp2 = []\n",
    "\n",
    "result = np.add(part_1_weighted, part_2_weighted ).round()\n",
    "\n",
    "print(\"        Score1  Score2  Score3  Score4  Score5  Score6  AVG_person\")\n",
    "\n",
    "count = 1 # 紀錄人數\n",
    "for row in result:\n",
    "    print(\"Person{0}\".format(count), end = ' ')\n",
    "    \n",
    "    for num in row:\n",
    "        print('{:^6} '.format(int(num)),end = ' ')\n",
    "    \n",
    "    print('{:^8}'.format(int(round(np.average(row)))))\n",
    "    average_person.append(int(round(np.average(row))))\n",
    "    count += 1\n",
    "    \n",
    "# 分隔線\n",
    "for i in range(66):\n",
    "    print('-',end = '')\n",
    "    \n",
    "print(\"\\nAVG_src\", end =' ')\n",
    "for row in result.swapaxes(0,1):\n",
    "    print('{:^6} '.format(int(round(np.average(row)))), end = ' ')\n",
    "print('{:^8} '.format(int(round(np.average(average_person)))))"
   ]
  },
  {
   "cell_type": "code",
   "execution_count": null,
   "metadata": {},
   "outputs": [],
   "source": []
  }
 ],
 "metadata": {
  "kernelspec": {
   "display_name": "Python 3",
   "language": "python",
   "name": "python3"
  },
  "language_info": {
   "codemirror_mode": {
    "name": "ipython",
    "version": 3
   },
   "file_extension": ".py",
   "mimetype": "text/x-python",
   "name": "python",
   "nbconvert_exporter": "python",
   "pygments_lexer": "ipython3",
   "version": "3.8.3"
  }
 },
 "nbformat": 4,
 "nbformat_minor": 4
}

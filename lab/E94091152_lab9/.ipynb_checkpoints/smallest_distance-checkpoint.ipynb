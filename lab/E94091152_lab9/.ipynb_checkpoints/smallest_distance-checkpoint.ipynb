{
 "cells": [
  {
   "cell_type": "code",
   "execution_count": 5,
   "metadata": {},
   "outputs": [
    {
     "name": "stdout",
     "output_type": "stream",
     "text": [
      "Intersection point = [0.73306761 7.58776385]\n",
      "Minimum distance = 4.28679958766998\n",
      "xy = 5.562343874620907\n",
      "Number of cycles = 5\n"
     ]
    }
   ],
   "source": [
    "from powell import *\n",
    "from numpy import array\n",
    "import math\n",
    "\n",
    "def F_star(x):\n",
    "    # Pentalty multipiler\n",
    "    lam = 1.0\n",
    "    # Constration\n",
    "    c = x[0]*x[1]-5 # xy-5=0\n",
    "    # Square of the distance\n",
    "    dist_square = F(x)\n",
    "    \n",
    "    # F*(x) = F(x) + 𝜆c^2\n",
    "    return dist_square + lam*(c**2) \n",
    "\n",
    "def F(x):\n",
    "    return (x[0]-5)**2+(x[1]-8)**2 # (x-5)^2+(y-8)^2\n",
    "\n",
    "# the starting value of x\n",
    "x_start = array([1.0, 5.0])\n",
    "# the intersection point and number of cycles\n",
    "x,cycle_num = powell(F_star,x_start)\n",
    "\n",
    "print(\"Intersection point = {0}\".format(x))\n",
    "print(\"Minimum distance = {0}\".format(math.sqrt(F(x))))\n",
    "print(\"xy = {0}\".format(x[0]*x[1]))\n",
    "print(\"Number of cycles = {0}\".format(cycle_num))"
   ]
  },
  {
   "cell_type": "code",
   "execution_count": null,
   "metadata": {},
   "outputs": [],
   "source": []
  }
 ],
 "metadata": {
  "kernelspec": {
   "display_name": "Python 3",
   "language": "python",
   "name": "python3"
  },
  "language_info": {
   "codemirror_mode": {
    "name": "ipython",
    "version": 3
   },
   "file_extension": ".py",
   "mimetype": "text/x-python",
   "name": "python",
   "nbconvert_exporter": "python",
   "pygments_lexer": "ipython3",
   "version": "3.8.3"
  }
 },
 "nbformat": 4,
 "nbformat_minor": 4
}

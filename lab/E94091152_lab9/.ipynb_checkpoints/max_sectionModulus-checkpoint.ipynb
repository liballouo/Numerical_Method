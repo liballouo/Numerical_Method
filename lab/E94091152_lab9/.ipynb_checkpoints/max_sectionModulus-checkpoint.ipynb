{
 "cells": [
  {
   "cell_type": "code",
   "execution_count": 4,
   "metadata": {},
   "outputs": [
    {
     "name": "stdout",
     "output_type": "stream",
     "text": [
      "Optimal y = 52.17627387056691\n",
      "Optimal S = 7864.430941364856\n",
      "S of triangle = 7200.0\n"
     ]
    }
   ],
   "source": [
    "from goldSearch import *\n",
    "\n",
    "def f(y):\n",
    "    # Base \n",
    "    B = 48.0\n",
    "    # Height\n",
    "    H = 60.0\n",
    "    # Base of rectangle\n",
    "    a = B*(H-y)/H\n",
    "    # Base of triangle\n",
    "    b = (B-a)/2.0\n",
    "    # Area\n",
    "    A = (B+a)*y/2.0\n",
    "    # First moment of area about 𝑥-axis\n",
    "    Qx = a*(y**2)/2.0+b*(y**2)/3.0\n",
    "    # Location of centroid\n",
    "    d = Qx/A\n",
    "    # Distance involved in S \n",
    "    c = y-d\n",
    "    # Second moment of area about 𝑥 -axis\n",
    "    Ix = a*(y**3)/3.0+b*(y**3)/6.0\n",
    "    # Parallel axis theorem\n",
    "    Ix_bar = Ix-A*(d**2)\n",
    "    # Section modulus\n",
    "    return -Ix_bar/c\n",
    "\n",
    "# the starting value of y\n",
    "y_start = 60.0\n",
    "# the size of step\n",
    "h = 1.0\n",
    "a, b = bracket(f, y_start, h)\n",
    "y_optimal, f_optimal = search(f, a, b)\n",
    "\n",
    "print(\"Optimal y = {0}\".format(y_optimal))\n",
    "print(\"Optimal S = {0}\".format(-f_optimal))\n",
    "print(\"S of triangle = {0}\".format(-f(60.0)))"
   ]
  },
  {
   "cell_type": "code",
   "execution_count": null,
   "metadata": {},
   "outputs": [],
   "source": []
  }
 ],
 "metadata": {
  "kernelspec": {
   "display_name": "Python 3",
   "language": "python",
   "name": "python3"
  },
  "language_info": {
   "codemirror_mode": {
    "name": "ipython",
    "version": 3
   },
   "file_extension": ".py",
   "mimetype": "text/x-python",
   "name": "python",
   "nbconvert_exporter": "python",
   "pygments_lexer": "ipython3",
   "version": "3.8.3"
  }
 },
 "nbformat": 4,
 "nbformat_minor": 4
}

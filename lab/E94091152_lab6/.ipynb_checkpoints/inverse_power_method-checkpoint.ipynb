{
 "cells": [
  {
   "cell_type": "code",
   "execution_count": 1,
   "metadata": {},
   "outputs": [],
   "source": [
    "import numpy as np"
   ]
  },
  {
   "cell_type": "code",
   "execution_count": 77,
   "metadata": {},
   "outputs": [],
   "source": [
    "def inverse_power_method(matrix_x, matrix_A):\n",
    "    \n",
    "    # initial vector to start the iteration\n",
    "    eigenvector = matrix_x\n",
    "    \n",
    "    # iterating for 50 times\n",
    "    for i in range(50):\n",
    "        # inverse matrix of A (A(-1))\n",
    "        inverse_matrix_A = np.linalg.inv(matrix_A)\n",
    "        \n",
    "        # A(-1)x matrix\n",
    "        A_inverse_x_matrix = np.matmul(inverse_matrix_A, eigenvector)\n",
    "        \n",
    "        # solving the eigenvalue\n",
    "        eigenvalue = abs(A_inverse_x_matrix).max()\n",
    "        \n",
    "        # solving the eigenvector\n",
    "        eigenvector = A_inverse_x_matrix / eigenvalue\n",
    "        \n",
    "        # dealing with the case that isn't normalized correctly\n",
    "        if A_inverse_x_matrix.max() != 1:\n",
    "            eigenvector *= -1\n",
    "            eigenvalue *= -1\n",
    "            \n",
    "    # solving the minimum eigenvalue\n",
    "    minimum_eigenvalue = 1 / eigenvalue\n",
    "    print(\"The Minimum Eigenvale: {0}\".format(minimum_eigenvalue))\n",
    "    print(\"Eigenvector: {0}\".format(eigenvector))"
   ]
  },
  {
   "cell_type": "code",
   "execution_count": 78,
   "metadata": {},
   "outputs": [
    {
     "name": "stdout",
     "output_type": "stream",
     "text": [
      "The Minimum Eigenvale: -1.0\n",
      "Eigenvector: [ 1.  -0.5]\n"
     ]
    }
   ],
   "source": [
    "x = np.array([1, 1])\n",
    "a = np.array([[0, 2],[2, 3]])\n",
    "\n",
    "inverse_power_method(x, a)"
   ]
  },
  {
   "cell_type": "code",
   "execution_count": 79,
   "metadata": {},
   "outputs": [
    {
     "name": "stdout",
     "output_type": "stream",
     "text": [
      "The Minimum Eigenvale: -0.7958315233127194\n",
      "Eigenvector: [ 1.         -0.25654736 -0.25654736]\n"
     ]
    }
   ],
   "source": [
    "x = np.array([1, 1, 1])\n",
    "a = np.array([[1, 5, 2],[2, 4, 3],[2, 1, 6]])\n",
    "\n",
    "inverse_power_method(x, a)"
   ]
  },
  {
   "cell_type": "code",
   "execution_count": null,
   "metadata": {},
   "outputs": [],
   "source": []
  }
 ],
 "metadata": {
  "kernelspec": {
   "display_name": "Python 3",
   "language": "python",
   "name": "python3"
  },
  "language_info": {
   "codemirror_mode": {
    "name": "ipython",
    "version": 3
   },
   "file_extension": ".py",
   "mimetype": "text/x-python",
   "name": "python",
   "nbconvert_exporter": "python",
   "pygments_lexer": "ipython3",
   "version": "3.8.3"
  }
 },
 "nbformat": 4,
 "nbformat_minor": 4
}
